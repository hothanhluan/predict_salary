{
 "cells": [
  {
   "cell_type": "code",
   "execution_count": 1,
   "metadata": {
    "collapsed": true
   },
   "outputs": [],
   "source": [
    "import numpy as np\n",
    "import pandas as pd"
   ]
  },
  {
   "cell_type": "markdown",
   "metadata": {},
   "source": [
    "## Load dữ liệu từ file json\n",
    "dataframe real_data bao gồm các thông tin về điểm , quê quán, giới tính , trạng thái có thu thập được dữ liệu hay không  của sinh viên\n",
    "dataframe data_jobStudent chứa thông tin về lương của sinh viên đã thu thập được và chưa thu thập được\n",
    "dataframe data_jobCourse chứa thông tin về tất cả các môn học được giảng dạy trong trường\n",
    "\n",
    "\n"
   ]
  },
  {
   "cell_type": "code",
   "execution_count": 164,
   "metadata": {
    "collapsed": true
   },
   "outputs": [],
   "source": [
    "real_data = pd.read_json('G:/Data/JobSuggest/real_data.json')\n",
    "data = pd.read_json('G:/Data/JobSuggest/onetable.json' , encoding = 'utf8')\n",
    "data_jobStudent = pd.read_json('G:/Data/JobSuggest/db.json/db/job_suggest_jobStudent.json' , encoding = 'utf8')\n",
    "data_jobCourse = pd.read_json('G:/Data/JobSuggest/db.json/db/job_suggest_jobCourse.json' , encoding = 'utf8')"
   ]
  },
  {
   "cell_type": "markdown",
   "metadata": {},
   "source": [
    "## Xem trước một số thông tin về dataframe"
   ]
  },
  {
   "cell_type": "code",
   "execution_count": 165,
   "metadata": {},
   "outputs": [
    {
     "data": {
      "text/plain": [
       "(2285, 340)"
      ]
     },
     "execution_count": 165,
     "metadata": {},
     "output_type": "execute_result"
    }
   ],
   "source": [
    "real_data.shape"
   ]
  },
  {
   "cell_type": "code",
   "execution_count": 166,
   "metadata": {},
   "outputs": [
    {
     "data": {
      "text/html": [
       "<div>\n",
       "<style>\n",
       "    .dataframe thead tr:only-child th {\n",
       "        text-align: right;\n",
       "    }\n",
       "\n",
       "    .dataframe thead th {\n",
       "        text-align: left;\n",
       "    }\n",
       "\n",
       "    .dataframe tbody tr th {\n",
       "        vertical-align: top;\n",
       "    }\n",
       "</style>\n",
       "<table border=\"1\" class=\"dataframe\">\n",
       "  <thead>\n",
       "    <tr style=\"text-align: right;\">\n",
       "      <th></th>\n",
       "      <th>010348</th>\n",
       "      <th>010438</th>\n",
       "      <th>030320</th>\n",
       "      <th>050301</th>\n",
       "      <th>050302</th>\n",
       "      <th>050303</th>\n",
       "      <th>050304</th>\n",
       "      <th>050305</th>\n",
       "      <th>050306</th>\n",
       "      <th>050307</th>\n",
       "      <th>...</th>\n",
       "      <th>A1</th>\n",
       "      <th>A2</th>\n",
       "      <th>A3</th>\n",
       "      <th>diemtichluy</th>\n",
       "      <th>gender</th>\n",
       "      <th>hometown</th>\n",
       "      <th>id</th>\n",
       "      <th>isreal</th>\n",
       "      <th>status</th>\n",
       "      <th>tctl</th>\n",
       "    </tr>\n",
       "  </thead>\n",
       "  <tbody>\n",
       "    <tr>\n",
       "      <th>0</th>\n",
       "      <td>NaN</td>\n",
       "      <td>NaN</td>\n",
       "      <td>NaN</td>\n",
       "      <td>NaN</td>\n",
       "      <td>7.3</td>\n",
       "      <td>NaN</td>\n",
       "      <td>9.0</td>\n",
       "      <td>7.2</td>\n",
       "      <td>9.2</td>\n",
       "      <td>6.7</td>\n",
       "      <td>...</td>\n",
       "      <td>NaN</td>\n",
       "      <td>NaN</td>\n",
       "      <td>NaN</td>\n",
       "      <td>2.77</td>\n",
       "      <td>1</td>\n",
       "      <td>Thái Bình</td>\n",
       "      <td>1</td>\n",
       "      <td>0</td>\n",
       "      <td>3</td>\n",
       "      <td>172</td>\n",
       "    </tr>\n",
       "    <tr>\n",
       "      <th>1</th>\n",
       "      <td>NaN</td>\n",
       "      <td>NaN</td>\n",
       "      <td>NaN</td>\n",
       "      <td>NaN</td>\n",
       "      <td>7.3</td>\n",
       "      <td>NaN</td>\n",
       "      <td>8.5</td>\n",
       "      <td>8.5</td>\n",
       "      <td>NaN</td>\n",
       "      <td>8.7</td>\n",
       "      <td>...</td>\n",
       "      <td>NaN</td>\n",
       "      <td>NaN</td>\n",
       "      <td>NaN</td>\n",
       "      <td>3.06</td>\n",
       "      <td>1</td>\n",
       "      <td>Thanh Hóa</td>\n",
       "      <td>2</td>\n",
       "      <td>0</td>\n",
       "      <td>3</td>\n",
       "      <td>172</td>\n",
       "    </tr>\n",
       "    <tr>\n",
       "      <th>2</th>\n",
       "      <td>NaN</td>\n",
       "      <td>NaN</td>\n",
       "      <td>NaN</td>\n",
       "      <td>NaN</td>\n",
       "      <td>4.8</td>\n",
       "      <td>NaN</td>\n",
       "      <td>2.7</td>\n",
       "      <td>6.3</td>\n",
       "      <td>8.8</td>\n",
       "      <td>7.3</td>\n",
       "      <td>...</td>\n",
       "      <td>NaN</td>\n",
       "      <td>NaN</td>\n",
       "      <td>NaN</td>\n",
       "      <td>2.66</td>\n",
       "      <td>0</td>\n",
       "      <td>TP Hà nội</td>\n",
       "      <td>4</td>\n",
       "      <td>0</td>\n",
       "      <td>3</td>\n",
       "      <td>172</td>\n",
       "    </tr>\n",
       "    <tr>\n",
       "      <th>3</th>\n",
       "      <td>NaN</td>\n",
       "      <td>NaN</td>\n",
       "      <td>NaN</td>\n",
       "      <td>NaN</td>\n",
       "      <td>7.6</td>\n",
       "      <td>NaN</td>\n",
       "      <td>9.0</td>\n",
       "      <td>6.5</td>\n",
       "      <td>NaN</td>\n",
       "      <td>8.3</td>\n",
       "      <td>...</td>\n",
       "      <td>NaN</td>\n",
       "      <td>NaN</td>\n",
       "      <td>NaN</td>\n",
       "      <td>2.90</td>\n",
       "      <td>1</td>\n",
       "      <td>Nam Định</td>\n",
       "      <td>5</td>\n",
       "      <td>0</td>\n",
       "      <td>3</td>\n",
       "      <td>172</td>\n",
       "    </tr>\n",
       "    <tr>\n",
       "      <th>4</th>\n",
       "      <td>NaN</td>\n",
       "      <td>NaN</td>\n",
       "      <td>NaN</td>\n",
       "      <td>NaN</td>\n",
       "      <td>6.8</td>\n",
       "      <td>NaN</td>\n",
       "      <td>3.0</td>\n",
       "      <td>6.8</td>\n",
       "      <td>8.5</td>\n",
       "      <td>6.5</td>\n",
       "      <td>...</td>\n",
       "      <td>NaN</td>\n",
       "      <td>NaN</td>\n",
       "      <td>NaN</td>\n",
       "      <td>2.29</td>\n",
       "      <td>1</td>\n",
       "      <td>Nam Định</td>\n",
       "      <td>7</td>\n",
       "      <td>0</td>\n",
       "      <td>3</td>\n",
       "      <td>172</td>\n",
       "    </tr>\n",
       "  </tbody>\n",
       "</table>\n",
       "<p>5 rows × 340 columns</p>\n",
       "</div>"
      ],
      "text/plain": [
       "   010348  010438  030320  050301  050302  050303  050304  050305  050306  \\\n",
       "0     NaN     NaN     NaN     NaN     7.3     NaN     9.0     7.2     9.2   \n",
       "1     NaN     NaN     NaN     NaN     7.3     NaN     8.5     8.5     NaN   \n",
       "2     NaN     NaN     NaN     NaN     4.8     NaN     2.7     6.3     8.8   \n",
       "3     NaN     NaN     NaN     NaN     7.6     NaN     9.0     6.5     NaN   \n",
       "4     NaN     NaN     NaN     NaN     6.8     NaN     3.0     6.8     8.5   \n",
       "\n",
       "   050307  ...   A1  A2  A3  diemtichluy  gender   hometown  id  isreal  \\\n",
       "0     6.7  ...  NaN NaN NaN         2.77       1  Thái Bình   1       0   \n",
       "1     8.7  ...  NaN NaN NaN         3.06       1  Thanh Hóa   2       0   \n",
       "2     7.3  ...  NaN NaN NaN         2.66       0  TP Hà nội   4       0   \n",
       "3     8.3  ...  NaN NaN NaN         2.90       1   Nam Định   5       0   \n",
       "4     6.5  ...  NaN NaN NaN         2.29       1   Nam Định   7       0   \n",
       "\n",
       "   status  tctl  \n",
       "0       3   172  \n",
       "1       3   172  \n",
       "2       3   172  \n",
       "3       3   172  \n",
       "4       3   172  \n",
       "\n",
       "[5 rows x 340 columns]"
      ]
     },
     "execution_count": 166,
     "metadata": {},
     "output_type": "execute_result"
    }
   ],
   "source": [
    "real_data.head()"
   ]
  },
  {
   "cell_type": "code",
   "execution_count": 167,
   "metadata": {},
   "outputs": [
    {
     "data": {
      "text/html": [
       "<div>\n",
       "<style>\n",
       "    .dataframe thead tr:only-child th {\n",
       "        text-align: right;\n",
       "    }\n",
       "\n",
       "    .dataframe thead th {\n",
       "        text-align: left;\n",
       "    }\n",
       "\n",
       "    .dataframe tbody tr th {\n",
       "        vertical-align: top;\n",
       "    }\n",
       "</style>\n",
       "<table border=\"1\" class=\"dataframe\">\n",
       "  <thead>\n",
       "    <tr style=\"text-align: right;\">\n",
       "      <th></th>\n",
       "      <th>birthday</th>\n",
       "      <th>choose_ology</th>\n",
       "      <th>classid</th>\n",
       "      <th>department</th>\n",
       "      <th>diemtichluy</th>\n",
       "      <th>ecourseid</th>\n",
       "      <th>eologyid</th>\n",
       "      <th>gender</th>\n",
       "      <th>hometown</th>\n",
       "      <th>id</th>\n",
       "      <th>job</th>\n",
       "      <th>salary</th>\n",
       "      <th>tctl</th>\n",
       "      <th>workplace</th>\n",
       "    </tr>\n",
       "  </thead>\n",
       "  <tbody>\n",
       "    <tr>\n",
       "      <th>0</th>\n",
       "      <td>1993-07-31</td>\n",
       "      <td>NaN</td>\n",
       "      <td>0</td>\n",
       "      <td>None</td>\n",
       "      <td>2.77</td>\n",
       "      <td>26</td>\n",
       "      <td>38</td>\n",
       "      <td>1</td>\n",
       "      <td>Thái Bình</td>\n",
       "      <td>1</td>\n",
       "      <td>None</td>\n",
       "      <td>5000000</td>\n",
       "      <td>172</td>\n",
       "      <td>None</td>\n",
       "    </tr>\n",
       "    <tr>\n",
       "      <th>1</th>\n",
       "      <td>1993-06-04</td>\n",
       "      <td>NaN</td>\n",
       "      <td>0</td>\n",
       "      <td>None</td>\n",
       "      <td>3.06</td>\n",
       "      <td>26</td>\n",
       "      <td>38</td>\n",
       "      <td>1</td>\n",
       "      <td>Thanh Hóa</td>\n",
       "      <td>2</td>\n",
       "      <td>None</td>\n",
       "      <td>6000000</td>\n",
       "      <td>172</td>\n",
       "      <td>None</td>\n",
       "    </tr>\n",
       "    <tr>\n",
       "      <th>2</th>\n",
       "      <td>1993-10-18</td>\n",
       "      <td>NaN</td>\n",
       "      <td>0</td>\n",
       "      <td>None</td>\n",
       "      <td>2.66</td>\n",
       "      <td>26</td>\n",
       "      <td>38</td>\n",
       "      <td>0</td>\n",
       "      <td>TP Hà nội</td>\n",
       "      <td>4</td>\n",
       "      <td>None</td>\n",
       "      <td>3000000</td>\n",
       "      <td>172</td>\n",
       "      <td>None</td>\n",
       "    </tr>\n",
       "    <tr>\n",
       "      <th>3</th>\n",
       "      <td>1993-12-06</td>\n",
       "      <td>NaN</td>\n",
       "      <td>0</td>\n",
       "      <td>None</td>\n",
       "      <td>2.90</td>\n",
       "      <td>26</td>\n",
       "      <td>38</td>\n",
       "      <td>1</td>\n",
       "      <td>Nam Định</td>\n",
       "      <td>5</td>\n",
       "      <td>None</td>\n",
       "      <td>7000000</td>\n",
       "      <td>172</td>\n",
       "      <td>None</td>\n",
       "    </tr>\n",
       "    <tr>\n",
       "      <th>4</th>\n",
       "      <td>1993-06-05</td>\n",
       "      <td>NaN</td>\n",
       "      <td>0</td>\n",
       "      <td>None</td>\n",
       "      <td>2.29</td>\n",
       "      <td>26</td>\n",
       "      <td>38</td>\n",
       "      <td>1</td>\n",
       "      <td>Nam Định</td>\n",
       "      <td>7</td>\n",
       "      <td>None</td>\n",
       "      <td>5500000</td>\n",
       "      <td>172</td>\n",
       "      <td>None</td>\n",
       "    </tr>\n",
       "  </tbody>\n",
       "</table>\n",
       "</div>"
      ],
      "text/plain": [
       "     birthday  choose_ology  classid department  diemtichluy  ecourseid  \\\n",
       "0  1993-07-31           NaN        0       None         2.77         26   \n",
       "1  1993-06-04           NaN        0       None         3.06         26   \n",
       "2  1993-10-18           NaN        0       None         2.66         26   \n",
       "3  1993-12-06           NaN        0       None         2.90         26   \n",
       "4  1993-06-05           NaN        0       None         2.29         26   \n",
       "\n",
       "   eologyid  gender   hometown  id   job   salary  tctl workplace  \n",
       "0        38       1  Thái Bình   1  None  5000000   172      None  \n",
       "1        38       1  Thanh Hóa   2  None  6000000   172      None  \n",
       "2        38       0  TP Hà nội   4  None  3000000   172      None  \n",
       "3        38       1   Nam Định   5  None  7000000   172      None  \n",
       "4        38       1   Nam Định   7  None  5500000   172      None  "
      ]
     },
     "execution_count": 167,
     "metadata": {},
     "output_type": "execute_result"
    }
   ],
   "source": [
    "data_jobStudent.head()"
   ]
  },
  {
   "cell_type": "markdown",
   "metadata": {},
   "source": [
    "## Chọn lọc các môn học quan trọng đối với sinh viên ngành công nghệ thông tin \n",
    "\n"
   ]
  },
  {
   "cell_type": "code",
   "execution_count": 168,
   "metadata": {
    "collapsed": true
   },
   "outputs": [],
   "source": [
    "#convert list_course_feature from text to id\n",
    "list_course_name = ['Kỹ thuật lập trình' , 'Cấu trúc dữ liệu và giải thuật' ,\n",
    "                       'Cơ sở dữ liệu' ,'Lập trình hướng đối tượng' , 'Thiết kế web' , 'Phân tích thiết kế hệ thống',\n",
    "                      'Công nghệ XML' , 'Mạng máy tính' , 'Toán rời rạc' , 'Tiếng Anh chuyên ngành (Khối ngành Máy tính và CNTT)']\n",
    "list_cid_feature = []\n",
    "for i in range(len(data_jobCourse)):\n",
    "    if(data_jobCourse['display'][i] in list_course_name):\n",
    "        list_cid_feature.append(data_jobCourse['name'][i])"
   ]
  },
  {
   "cell_type": "code",
   "execution_count": 169,
   "metadata": {},
   "outputs": [
    {
     "data": {
      "text/plain": [
       "['050335',\n",
       " '050305',\n",
       " '050316',\n",
       " '050322',\n",
       " '050302',\n",
       " '050320',\n",
       " '050330',\n",
       " '050373',\n",
       " '050304',\n",
       " '0503127',\n",
       " '0503130',\n",
       " '0503137',\n",
       " '0503156',\n",
       " '0503105',\n",
       " '0503103',\n",
       " '0503150',\n",
       " '1303131',\n",
       " '0503106',\n",
       " '050402',\n",
       " '050403']"
      ]
     },
     "execution_count": 169,
     "metadata": {},
     "output_type": "execute_result"
    }
   ],
   "source": [
    "list_cid_feature"
   ]
  },
  {
   "cell_type": "code",
   "execution_count": 170,
   "metadata": {
    "collapsed": true
   },
   "outputs": [],
   "source": [
    "salary = data_jobStudent['salary']"
   ]
  },
  {
   "cell_type": "code",
   "execution_count": 171,
   "metadata": {
    "collapsed": true
   },
   "outputs": [],
   "source": [
    "real_data = pd.concat([salary , real_data] , axis = 1)"
   ]
  },
  {
   "cell_type": "code",
   "execution_count": 172,
   "metadata": {
    "collapsed": true
   },
   "outputs": [],
   "source": [
    "list_cid_feature.append('diemtichluy')\n",
    "list_cid_feature.append('gender')\n",
    "list_cid_feature.append('hometown')\n",
    "list_cid_feature.append('id')\n",
    "list_cid_feature.append('status')\n",
    "list_cid_feature.append('tctl')\n",
    "list_cid_feature.append('isreal')\n",
    "list_cid_feature.append('salary')\n",
    "real_data = real_data.filter(items = list_cid_feature)"
   ]
  },
  {
   "cell_type": "code",
   "execution_count": 173,
   "metadata": {},
   "outputs": [
    {
     "data": {
      "text/html": [
       "<div>\n",
       "<style>\n",
       "    .dataframe thead tr:only-child th {\n",
       "        text-align: right;\n",
       "    }\n",
       "\n",
       "    .dataframe thead th {\n",
       "        text-align: left;\n",
       "    }\n",
       "\n",
       "    .dataframe tbody tr th {\n",
       "        vertical-align: top;\n",
       "    }\n",
       "</style>\n",
       "<table border=\"1\" class=\"dataframe\">\n",
       "  <thead>\n",
       "    <tr style=\"text-align: right;\">\n",
       "      <th></th>\n",
       "      <th>050335</th>\n",
       "      <th>050305</th>\n",
       "      <th>050316</th>\n",
       "      <th>050322</th>\n",
       "      <th>050302</th>\n",
       "      <th>050320</th>\n",
       "      <th>050330</th>\n",
       "      <th>050373</th>\n",
       "      <th>050304</th>\n",
       "      <th>0503127</th>\n",
       "      <th>...</th>\n",
       "      <th>050402</th>\n",
       "      <th>050403</th>\n",
       "      <th>diemtichluy</th>\n",
       "      <th>gender</th>\n",
       "      <th>hometown</th>\n",
       "      <th>id</th>\n",
       "      <th>status</th>\n",
       "      <th>tctl</th>\n",
       "      <th>isreal</th>\n",
       "      <th>salary</th>\n",
       "    </tr>\n",
       "  </thead>\n",
       "  <tbody>\n",
       "    <tr>\n",
       "      <th>0</th>\n",
       "      <td>5.5</td>\n",
       "      <td>7.2</td>\n",
       "      <td>7.3</td>\n",
       "      <td>7.5</td>\n",
       "      <td>7.3</td>\n",
       "      <td>1.3</td>\n",
       "      <td>7.2</td>\n",
       "      <td>9.7</td>\n",
       "      <td>9.0</td>\n",
       "      <td>NaN</td>\n",
       "      <td>...</td>\n",
       "      <td>NaN</td>\n",
       "      <td>NaN</td>\n",
       "      <td>2.77</td>\n",
       "      <td>1</td>\n",
       "      <td>Thái Bình</td>\n",
       "      <td>1</td>\n",
       "      <td>3</td>\n",
       "      <td>172</td>\n",
       "      <td>0</td>\n",
       "      <td>5000000</td>\n",
       "    </tr>\n",
       "    <tr>\n",
       "      <th>1</th>\n",
       "      <td>8.3</td>\n",
       "      <td>8.5</td>\n",
       "      <td>10.0</td>\n",
       "      <td>8.2</td>\n",
       "      <td>7.3</td>\n",
       "      <td>6.0</td>\n",
       "      <td>8.5</td>\n",
       "      <td>9.7</td>\n",
       "      <td>8.5</td>\n",
       "      <td>NaN</td>\n",
       "      <td>...</td>\n",
       "      <td>NaN</td>\n",
       "      <td>NaN</td>\n",
       "      <td>3.06</td>\n",
       "      <td>1</td>\n",
       "      <td>Thanh Hóa</td>\n",
       "      <td>2</td>\n",
       "      <td>3</td>\n",
       "      <td>172</td>\n",
       "      <td>0</td>\n",
       "      <td>6000000</td>\n",
       "    </tr>\n",
       "    <tr>\n",
       "      <th>2</th>\n",
       "      <td>7.3</td>\n",
       "      <td>6.3</td>\n",
       "      <td>5.0</td>\n",
       "      <td>6.2</td>\n",
       "      <td>4.8</td>\n",
       "      <td>4.7</td>\n",
       "      <td>7.5</td>\n",
       "      <td>6.0</td>\n",
       "      <td>2.7</td>\n",
       "      <td>NaN</td>\n",
       "      <td>...</td>\n",
       "      <td>NaN</td>\n",
       "      <td>NaN</td>\n",
       "      <td>2.66</td>\n",
       "      <td>0</td>\n",
       "      <td>TP Hà nội</td>\n",
       "      <td>4</td>\n",
       "      <td>3</td>\n",
       "      <td>172</td>\n",
       "      <td>0</td>\n",
       "      <td>3000000</td>\n",
       "    </tr>\n",
       "    <tr>\n",
       "      <th>3</th>\n",
       "      <td>8.2</td>\n",
       "      <td>6.5</td>\n",
       "      <td>8.5</td>\n",
       "      <td>5.5</td>\n",
       "      <td>7.6</td>\n",
       "      <td>7.7</td>\n",
       "      <td>8.5</td>\n",
       "      <td>7.7</td>\n",
       "      <td>9.0</td>\n",
       "      <td>NaN</td>\n",
       "      <td>...</td>\n",
       "      <td>NaN</td>\n",
       "      <td>NaN</td>\n",
       "      <td>2.90</td>\n",
       "      <td>1</td>\n",
       "      <td>Nam Định</td>\n",
       "      <td>5</td>\n",
       "      <td>3</td>\n",
       "      <td>172</td>\n",
       "      <td>0</td>\n",
       "      <td>7000000</td>\n",
       "    </tr>\n",
       "    <tr>\n",
       "      <th>4</th>\n",
       "      <td>2.8</td>\n",
       "      <td>6.8</td>\n",
       "      <td>7.2</td>\n",
       "      <td>3.7</td>\n",
       "      <td>6.8</td>\n",
       "      <td>2.0</td>\n",
       "      <td>5.5</td>\n",
       "      <td>0.0</td>\n",
       "      <td>3.0</td>\n",
       "      <td>NaN</td>\n",
       "      <td>...</td>\n",
       "      <td>NaN</td>\n",
       "      <td>NaN</td>\n",
       "      <td>2.29</td>\n",
       "      <td>1</td>\n",
       "      <td>Nam Định</td>\n",
       "      <td>7</td>\n",
       "      <td>3</td>\n",
       "      <td>172</td>\n",
       "      <td>0</td>\n",
       "      <td>5500000</td>\n",
       "    </tr>\n",
       "  </tbody>\n",
       "</table>\n",
       "<p>5 rows × 28 columns</p>\n",
       "</div>"
      ],
      "text/plain": [
       "   050335  050305  050316  050322  050302  050320  050330  050373  050304  \\\n",
       "0     5.5     7.2     7.3     7.5     7.3     1.3     7.2     9.7     9.0   \n",
       "1     8.3     8.5    10.0     8.2     7.3     6.0     8.5     9.7     8.5   \n",
       "2     7.3     6.3     5.0     6.2     4.8     4.7     7.5     6.0     2.7   \n",
       "3     8.2     6.5     8.5     5.5     7.6     7.7     8.5     7.7     9.0   \n",
       "4     2.8     6.8     7.2     3.7     6.8     2.0     5.5     0.0     3.0   \n",
       "\n",
       "   0503127   ...     050402  050403  diemtichluy  gender   hometown  id  \\\n",
       "0      NaN   ...        NaN     NaN         2.77       1  Thái Bình   1   \n",
       "1      NaN   ...        NaN     NaN         3.06       1  Thanh Hóa   2   \n",
       "2      NaN   ...        NaN     NaN         2.66       0  TP Hà nội   4   \n",
       "3      NaN   ...        NaN     NaN         2.90       1   Nam Định   5   \n",
       "4      NaN   ...        NaN     NaN         2.29       1   Nam Định   7   \n",
       "\n",
       "   status  tctl  isreal   salary  \n",
       "0       3   172       0  5000000  \n",
       "1       3   172       0  6000000  \n",
       "2       3   172       0  3000000  \n",
       "3       3   172       0  7000000  \n",
       "4       3   172       0  5500000  \n",
       "\n",
       "[5 rows x 28 columns]"
      ]
     },
     "execution_count": 173,
     "metadata": {},
     "output_type": "execute_result"
    }
   ],
   "source": [
    "real_data.head()"
   ]
  },
  {
   "cell_type": "markdown",
   "metadata": {},
   "source": [
    "## Lấy dữ liệu đã thu thập được chính xác lương và tách thành feature và target"
   ]
  },
  {
   "cell_type": "code",
   "execution_count": 338,
   "metadata": {
    "collapsed": true
   },
   "outputs": [],
   "source": [
    "X_train = real_data[real_data['isreal'] == 1].filter(items = list_cid_feature)\n",
    "\n",
    "Y_train = real_data[real_data['isreal'] == 1]['salary']"
   ]
  },
  {
   "cell_type": "code",
   "execution_count": 237,
   "metadata": {
    "collapsed": true
   },
   "outputs": [],
   "source": [
    "X_train.drop(['isreal' , 'salary'] , axis = 1 , inplace = True)"
   ]
  },
  {
   "cell_type": "code",
   "execution_count": 238,
   "metadata": {},
   "outputs": [
    {
     "data": {
      "text/plain": [
       "(214, 26)"
      ]
     },
     "execution_count": 238,
     "metadata": {},
     "output_type": "execute_result"
    }
   ],
   "source": [
    "X_train.shape"
   ]
  },
  {
   "cell_type": "markdown",
   "metadata": {},
   "source": [
    "# Quan sát dữ liệu của điểm tích lũy và tiền lương"
   ]
  },
  {
   "cell_type": "code",
   "execution_count": null,
   "metadata": {
    "collapsed": true
   },
   "outputs": [],
   "source": [
    "'050316' ,'050302' , '050305' , '050320'"
   ]
  },
  {
   "cell_type": "code",
   "execution_count": 342,
   "metadata": {},
   "outputs": [
    {
     "data": {
      "image/png": "[encoded data removed]",
      "text/plain": [
       "<matplotlib.figure.Figure at 0x2b2c1fb4f98>"
      ]
     },
     "metadata": {},
     "output_type": "display_data"
    }
   ],
   "source": [
    "#quan sat du lieu cua mon ky thuat lap trinh va tien luong\n",
    "import matplotlib.pyplot as plt\n",
    "\n",
    "plt.scatter(X_train['diemtichluy'] , Y_train)\n",
    "plt.title(\"Bieu do tuong quan giua mon hoc va luong\")\n",
    "plt.xlabel('Diem trung binh')\n",
    "plt.ylabel('Luong')\n",
    "plt.show()"
   ]
  },
  {
   "cell_type": "code",
   "execution_count": 343,
   "metadata": {},
   "outputs": [
    {
     "data": {
      "text/html": [
       "<div>\n",
       "<style>\n",
       "    .dataframe thead tr:only-child th {\n",
       "        text-align: right;\n",
       "    }\n",
       "\n",
       "    .dataframe thead th {\n",
       "        text-align: left;\n",
       "    }\n",
       "\n",
       "    .dataframe tbody tr th {\n",
       "        vertical-align: top;\n",
       "    }\n",
       "</style>\n",
       "<table border=\"1\" class=\"dataframe\">\n",
       "  <thead>\n",
       "    <tr style=\"text-align: right;\">\n",
       "      <th></th>\n",
       "      <th>050335</th>\n",
       "      <th>050305</th>\n",
       "      <th>050316</th>\n",
       "      <th>050322</th>\n",
       "      <th>050302</th>\n",
       "      <th>050320</th>\n",
       "      <th>050330</th>\n",
       "      <th>050373</th>\n",
       "      <th>050304</th>\n",
       "      <th>0503127</th>\n",
       "      <th>...</th>\n",
       "      <th>050402</th>\n",
       "      <th>050403</th>\n",
       "      <th>diemtichluy</th>\n",
       "      <th>gender</th>\n",
       "      <th>hometown</th>\n",
       "      <th>id</th>\n",
       "      <th>status</th>\n",
       "      <th>tctl</th>\n",
       "      <th>isreal</th>\n",
       "      <th>salary</th>\n",
       "    </tr>\n",
       "  </thead>\n",
       "  <tbody>\n",
       "    <tr>\n",
       "      <th>413</th>\n",
       "      <td>6.0</td>\n",
       "      <td>6.7</td>\n",
       "      <td>4.5</td>\n",
       "      <td>6.7</td>\n",
       "      <td>6.7</td>\n",
       "      <td>5.6</td>\n",
       "      <td>6.2</td>\n",
       "      <td>7.1</td>\n",
       "      <td>7.3</td>\n",
       "      <td>NaN</td>\n",
       "      <td>...</td>\n",
       "      <td>NaN</td>\n",
       "      <td>NaN</td>\n",
       "      <td>2.58</td>\n",
       "      <td>0</td>\n",
       "      <td>Thái Bình</td>\n",
       "      <td>560</td>\n",
       "      <td>3</td>\n",
       "      <td>172</td>\n",
       "      <td>1</td>\n",
       "      <td>7000000</td>\n",
       "    </tr>\n",
       "    <tr>\n",
       "      <th>414</th>\n",
       "      <td>6.0</td>\n",
       "      <td>9.3</td>\n",
       "      <td>7.2</td>\n",
       "      <td>7.3</td>\n",
       "      <td>8.0</td>\n",
       "      <td>5.7</td>\n",
       "      <td>6.6</td>\n",
       "      <td>4.3</td>\n",
       "      <td>7.0</td>\n",
       "      <td>NaN</td>\n",
       "      <td>...</td>\n",
       "      <td>NaN</td>\n",
       "      <td>NaN</td>\n",
       "      <td>2.63</td>\n",
       "      <td>0</td>\n",
       "      <td>Thái Bình</td>\n",
       "      <td>562</td>\n",
       "      <td>3</td>\n",
       "      <td>172</td>\n",
       "      <td>1</td>\n",
       "      <td>5000000</td>\n",
       "    </tr>\n",
       "    <tr>\n",
       "      <th>416</th>\n",
       "      <td>7.0</td>\n",
       "      <td>5.3</td>\n",
       "      <td>8.7</td>\n",
       "      <td>6.7</td>\n",
       "      <td>6.7</td>\n",
       "      <td>5.8</td>\n",
       "      <td>6.3</td>\n",
       "      <td>5.3</td>\n",
       "      <td>7.0</td>\n",
       "      <td>NaN</td>\n",
       "      <td>...</td>\n",
       "      <td>NaN</td>\n",
       "      <td>NaN</td>\n",
       "      <td>2.40</td>\n",
       "      <td>1</td>\n",
       "      <td>Sơn La</td>\n",
       "      <td>565</td>\n",
       "      <td>3</td>\n",
       "      <td>172</td>\n",
       "      <td>1</td>\n",
       "      <td>3000000</td>\n",
       "    </tr>\n",
       "    <tr>\n",
       "      <th>417</th>\n",
       "      <td>6.7</td>\n",
       "      <td>9.3</td>\n",
       "      <td>9.7</td>\n",
       "      <td>6.5</td>\n",
       "      <td>8.8</td>\n",
       "      <td>9.3</td>\n",
       "      <td>8.8</td>\n",
       "      <td>9.6</td>\n",
       "      <td>9.0</td>\n",
       "      <td>NaN</td>\n",
       "      <td>...</td>\n",
       "      <td>NaN</td>\n",
       "      <td>NaN</td>\n",
       "      <td>3.12</td>\n",
       "      <td>1</td>\n",
       "      <td>Bắc Giang</td>\n",
       "      <td>566</td>\n",
       "      <td>3</td>\n",
       "      <td>172</td>\n",
       "      <td>1</td>\n",
       "      <td>15000000</td>\n",
       "    </tr>\n",
       "    <tr>\n",
       "      <th>418</th>\n",
       "      <td>8.0</td>\n",
       "      <td>8.8</td>\n",
       "      <td>8.6</td>\n",
       "      <td>6.7</td>\n",
       "      <td>6.8</td>\n",
       "      <td>8.3</td>\n",
       "      <td>7.8</td>\n",
       "      <td>9.2</td>\n",
       "      <td>8.8</td>\n",
       "      <td>NaN</td>\n",
       "      <td>...</td>\n",
       "      <td>NaN</td>\n",
       "      <td>NaN</td>\n",
       "      <td>2.78</td>\n",
       "      <td>1</td>\n",
       "      <td>Hòa Bình</td>\n",
       "      <td>568</td>\n",
       "      <td>3</td>\n",
       "      <td>172</td>\n",
       "      <td>1</td>\n",
       "      <td>15000000</td>\n",
       "    </tr>\n",
       "  </tbody>\n",
       "</table>\n",
       "<p>5 rows × 28 columns</p>\n",
       "</div>"
      ],
      "text/plain": [
       "     050335  050305  050316  050322  050302  050320  050330  050373  050304  \\\n",
       "413     6.0     6.7     4.5     6.7     6.7     5.6     6.2     7.1     7.3   \n",
       "414     6.0     9.3     7.2     7.3     8.0     5.7     6.6     4.3     7.0   \n",
       "416     7.0     5.3     8.7     6.7     6.7     5.8     6.3     5.3     7.0   \n",
       "417     6.7     9.3     9.7     6.5     8.8     9.3     8.8     9.6     9.0   \n",
       "418     8.0     8.8     8.6     6.7     6.8     8.3     7.8     9.2     8.8   \n",
       "\n",
       "     0503127    ...     050402  050403  diemtichluy  gender   hometown   id  \\\n",
       "413      NaN    ...        NaN     NaN         2.58       0  Thái Bình  560   \n",
       "414      NaN    ...        NaN     NaN         2.63       0  Thái Bình  562   \n",
       "416      NaN    ...        NaN     NaN         2.40       1     Sơn La  565   \n",
       "417      NaN    ...        NaN     NaN         3.12       1  Bắc Giang  566   \n",
       "418      NaN    ...        NaN     NaN         2.78       1   Hòa Bình  568   \n",
       "\n",
       "     status  tctl  isreal    salary  \n",
       "413       3   172       1   7000000  \n",
       "414       3   172       1   5000000  \n",
       "416       3   172       1   3000000  \n",
       "417       3   172       1  15000000  \n",
       "418       3   172       1  15000000  \n",
       "\n",
       "[5 rows x 28 columns]"
      ]
     },
     "execution_count": 343,
     "metadata": {},
     "output_type": "execute_result"
    }
   ],
   "source": [
    "X_train.head()"
   ]
  },
  {
   "cell_type": "code",
   "execution_count": 344,
   "metadata": {},
   "outputs": [
    {
     "data": {
      "text/plain": [
       "['050335',\n",
       " '050305',\n",
       " '050316',\n",
       " '050322',\n",
       " '050302',\n",
       " '050320',\n",
       " '050330',\n",
       " '050373',\n",
       " '050304',\n",
       " '0503127',\n",
       " '0503130',\n",
       " '0503137',\n",
       " '0503156',\n",
       " '0503105',\n",
       " '0503103',\n",
       " '0503150',\n",
       " '1303131',\n",
       " '0503106',\n",
       " '050402',\n",
       " '050403',\n",
       " 'diemtichluy',\n",
       " 'gender',\n",
       " 'hometown',\n",
       " 'id',\n",
       " 'status',\n",
       " 'tctl',\n",
       " 'isreal',\n",
       " 'salary']"
      ]
     },
     "execution_count": 344,
     "metadata": {},
     "output_type": "execute_result"
    }
   ],
   "source": [
    "list_cid_feature"
   ]
  },
  {
   "cell_type": "markdown",
   "metadata": {},
   "source": [
    "## Loại bỏ những môn không cần thiết và bị null quá nhiều"
   ]
  },
  {
   "cell_type": "code",
   "execution_count": 345,
   "metadata": {
    "collapsed": true
   },
   "outputs": [],
   "source": [
    "X_test = real_data[real_data['isreal'] == 0].filter(items = list_cid_feature)\n",
    "\n",
    "Y_test = real_data[real_data['isreal'] == 0]['salary']"
   ]
  },
  {
   "cell_type": "code",
   "execution_count": 346,
   "metadata": {},
   "outputs": [],
   "source": [
    "X_train.drop(['0503130', '0503137', '0503156', '0503105','0503103', '0503150', '1303131', '0503106', '050402','050403' , '0503127'] , axis = 1 , inplace = True )"
   ]
  },
  {
   "cell_type": "code",
   "execution_count": 347,
   "metadata": {},
   "outputs": [],
   "source": [
    "X_test.drop(['0503130', '0503137', '0503156', '0503105','0503103', '0503150', '1303131', '0503106', '050402','050403' , 'salary' , 'isreal' , '0503127'] , axis = 1 , inplace = True )"
   ]
  },
  {
   "cell_type": "code",
   "execution_count": 348,
   "metadata": {},
   "outputs": [
    {
     "data": {
      "text/html": [
       "<div>\n",
       "<style>\n",
       "    .dataframe thead tr:only-child th {\n",
       "        text-align: right;\n",
       "    }\n",
       "\n",
       "    .dataframe thead th {\n",
       "        text-align: left;\n",
       "    }\n",
       "\n",
       "    .dataframe tbody tr th {\n",
       "        vertical-align: top;\n",
       "    }\n",
       "</style>\n",
       "<table border=\"1\" class=\"dataframe\">\n",
       "  <thead>\n",
       "    <tr style=\"text-align: right;\">\n",
       "      <th></th>\n",
       "      <th>050335</th>\n",
       "      <th>050305</th>\n",
       "      <th>050316</th>\n",
       "      <th>050322</th>\n",
       "      <th>050302</th>\n",
       "      <th>050320</th>\n",
       "      <th>050330</th>\n",
       "      <th>050373</th>\n",
       "      <th>050304</th>\n",
       "      <th>diemtichluy</th>\n",
       "      <th>gender</th>\n",
       "      <th>hometown</th>\n",
       "      <th>id</th>\n",
       "      <th>status</th>\n",
       "      <th>tctl</th>\n",
       "      <th>isreal</th>\n",
       "      <th>salary</th>\n",
       "    </tr>\n",
       "  </thead>\n",
       "  <tbody>\n",
       "    <tr>\n",
       "      <th>413</th>\n",
       "      <td>6.0</td>\n",
       "      <td>6.7</td>\n",
       "      <td>4.5</td>\n",
       "      <td>6.7</td>\n",
       "      <td>6.7</td>\n",
       "      <td>5.6</td>\n",
       "      <td>6.2</td>\n",
       "      <td>7.1</td>\n",
       "      <td>7.3</td>\n",
       "      <td>2.58</td>\n",
       "      <td>0</td>\n",
       "      <td>Thái Bình</td>\n",
       "      <td>560</td>\n",
       "      <td>3</td>\n",
       "      <td>172</td>\n",
       "      <td>1</td>\n",
       "      <td>7000000</td>\n",
       "    </tr>\n",
       "    <tr>\n",
       "      <th>414</th>\n",
       "      <td>6.0</td>\n",
       "      <td>9.3</td>\n",
       "      <td>7.2</td>\n",
       "      <td>7.3</td>\n",
       "      <td>8.0</td>\n",
       "      <td>5.7</td>\n",
       "      <td>6.6</td>\n",
       "      <td>4.3</td>\n",
       "      <td>7.0</td>\n",
       "      <td>2.63</td>\n",
       "      <td>0</td>\n",
       "      <td>Thái Bình</td>\n",
       "      <td>562</td>\n",
       "      <td>3</td>\n",
       "      <td>172</td>\n",
       "      <td>1</td>\n",
       "      <td>5000000</td>\n",
       "    </tr>\n",
       "    <tr>\n",
       "      <th>416</th>\n",
       "      <td>7.0</td>\n",
       "      <td>5.3</td>\n",
       "      <td>8.7</td>\n",
       "      <td>6.7</td>\n",
       "      <td>6.7</td>\n",
       "      <td>5.8</td>\n",
       "      <td>6.3</td>\n",
       "      <td>5.3</td>\n",
       "      <td>7.0</td>\n",
       "      <td>2.40</td>\n",
       "      <td>1</td>\n",
       "      <td>Sơn La</td>\n",
       "      <td>565</td>\n",
       "      <td>3</td>\n",
       "      <td>172</td>\n",
       "      <td>1</td>\n",
       "      <td>3000000</td>\n",
       "    </tr>\n",
       "    <tr>\n",
       "      <th>417</th>\n",
       "      <td>6.7</td>\n",
       "      <td>9.3</td>\n",
       "      <td>9.7</td>\n",
       "      <td>6.5</td>\n",
       "      <td>8.8</td>\n",
       "      <td>9.3</td>\n",
       "      <td>8.8</td>\n",
       "      <td>9.6</td>\n",
       "      <td>9.0</td>\n",
       "      <td>3.12</td>\n",
       "      <td>1</td>\n",
       "      <td>Bắc Giang</td>\n",
       "      <td>566</td>\n",
       "      <td>3</td>\n",
       "      <td>172</td>\n",
       "      <td>1</td>\n",
       "      <td>15000000</td>\n",
       "    </tr>\n",
       "    <tr>\n",
       "      <th>418</th>\n",
       "      <td>8.0</td>\n",
       "      <td>8.8</td>\n",
       "      <td>8.6</td>\n",
       "      <td>6.7</td>\n",
       "      <td>6.8</td>\n",
       "      <td>8.3</td>\n",
       "      <td>7.8</td>\n",
       "      <td>9.2</td>\n",
       "      <td>8.8</td>\n",
       "      <td>2.78</td>\n",
       "      <td>1</td>\n",
       "      <td>Hòa Bình</td>\n",
       "      <td>568</td>\n",
       "      <td>3</td>\n",
       "      <td>172</td>\n",
       "      <td>1</td>\n",
       "      <td>15000000</td>\n",
       "    </tr>\n",
       "  </tbody>\n",
       "</table>\n",
       "</div>"
      ],
      "text/plain": [
       "     050335  050305  050316  050322  050302  050320  050330  050373  050304  \\\n",
       "413     6.0     6.7     4.5     6.7     6.7     5.6     6.2     7.1     7.3   \n",
       "414     6.0     9.3     7.2     7.3     8.0     5.7     6.6     4.3     7.0   \n",
       "416     7.0     5.3     8.7     6.7     6.7     5.8     6.3     5.3     7.0   \n",
       "417     6.7     9.3     9.7     6.5     8.8     9.3     8.8     9.6     9.0   \n",
       "418     8.0     8.8     8.6     6.7     6.8     8.3     7.8     9.2     8.8   \n",
       "\n",
       "     diemtichluy  gender   hometown   id  status  tctl  isreal    salary  \n",
       "413         2.58       0  Thái Bình  560       3   172       1   7000000  \n",
       "414         2.63       0  Thái Bình  562       3   172       1   5000000  \n",
       "416         2.40       1     Sơn La  565       3   172       1   3000000  \n",
       "417         3.12       1  Bắc Giang  566       3   172       1  15000000  \n",
       "418         2.78       1   Hòa Bình  568       3   172       1  15000000  "
      ]
     },
     "execution_count": 348,
     "metadata": {},
     "output_type": "execute_result"
    }
   ],
   "source": [
    "X_train.head()"
   ]
  },
  {
   "cell_type": "code",
   "execution_count": 349,
   "metadata": {},
   "outputs": [
    {
     "data": {
      "text/html": [
       "<div>\n",
       "<style>\n",
       "    .dataframe thead tr:only-child th {\n",
       "        text-align: right;\n",
       "    }\n",
       "\n",
       "    .dataframe thead th {\n",
       "        text-align: left;\n",
       "    }\n",
       "\n",
       "    .dataframe tbody tr th {\n",
       "        vertical-align: top;\n",
       "    }\n",
       "</style>\n",
       "<table border=\"1\" class=\"dataframe\">\n",
       "  <thead>\n",
       "    <tr style=\"text-align: right;\">\n",
       "      <th></th>\n",
       "      <th>050335</th>\n",
       "      <th>050305</th>\n",
       "      <th>050316</th>\n",
       "      <th>050322</th>\n",
       "      <th>050302</th>\n",
       "      <th>050320</th>\n",
       "      <th>050330</th>\n",
       "      <th>050373</th>\n",
       "      <th>050304</th>\n",
       "      <th>diemtichluy</th>\n",
       "      <th>gender</th>\n",
       "      <th>hometown</th>\n",
       "      <th>id</th>\n",
       "      <th>status</th>\n",
       "      <th>tctl</th>\n",
       "    </tr>\n",
       "  </thead>\n",
       "  <tbody>\n",
       "    <tr>\n",
       "      <th>0</th>\n",
       "      <td>5.5</td>\n",
       "      <td>7.2</td>\n",
       "      <td>7.3</td>\n",
       "      <td>7.5</td>\n",
       "      <td>7.3</td>\n",
       "      <td>1.3</td>\n",
       "      <td>7.2</td>\n",
       "      <td>9.7</td>\n",
       "      <td>9.0</td>\n",
       "      <td>2.77</td>\n",
       "      <td>1</td>\n",
       "      <td>Thái Bình</td>\n",
       "      <td>1</td>\n",
       "      <td>3</td>\n",
       "      <td>172</td>\n",
       "    </tr>\n",
       "    <tr>\n",
       "      <th>1</th>\n",
       "      <td>8.3</td>\n",
       "      <td>8.5</td>\n",
       "      <td>10.0</td>\n",
       "      <td>8.2</td>\n",
       "      <td>7.3</td>\n",
       "      <td>6.0</td>\n",
       "      <td>8.5</td>\n",
       "      <td>9.7</td>\n",
       "      <td>8.5</td>\n",
       "      <td>3.06</td>\n",
       "      <td>1</td>\n",
       "      <td>Thanh Hóa</td>\n",
       "      <td>2</td>\n",
       "      <td>3</td>\n",
       "      <td>172</td>\n",
       "    </tr>\n",
       "    <tr>\n",
       "      <th>2</th>\n",
       "      <td>7.3</td>\n",
       "      <td>6.3</td>\n",
       "      <td>5.0</td>\n",
       "      <td>6.2</td>\n",
       "      <td>4.8</td>\n",
       "      <td>4.7</td>\n",
       "      <td>7.5</td>\n",
       "      <td>6.0</td>\n",
       "      <td>2.7</td>\n",
       "      <td>2.66</td>\n",
       "      <td>0</td>\n",
       "      <td>TP Hà nội</td>\n",
       "      <td>4</td>\n",
       "      <td>3</td>\n",
       "      <td>172</td>\n",
       "    </tr>\n",
       "    <tr>\n",
       "      <th>3</th>\n",
       "      <td>8.2</td>\n",
       "      <td>6.5</td>\n",
       "      <td>8.5</td>\n",
       "      <td>5.5</td>\n",
       "      <td>7.6</td>\n",
       "      <td>7.7</td>\n",
       "      <td>8.5</td>\n",
       "      <td>7.7</td>\n",
       "      <td>9.0</td>\n",
       "      <td>2.90</td>\n",
       "      <td>1</td>\n",
       "      <td>Nam Định</td>\n",
       "      <td>5</td>\n",
       "      <td>3</td>\n",
       "      <td>172</td>\n",
       "    </tr>\n",
       "    <tr>\n",
       "      <th>4</th>\n",
       "      <td>2.8</td>\n",
       "      <td>6.8</td>\n",
       "      <td>7.2</td>\n",
       "      <td>3.7</td>\n",
       "      <td>6.8</td>\n",
       "      <td>2.0</td>\n",
       "      <td>5.5</td>\n",
       "      <td>0.0</td>\n",
       "      <td>3.0</td>\n",
       "      <td>2.29</td>\n",
       "      <td>1</td>\n",
       "      <td>Nam Định</td>\n",
       "      <td>7</td>\n",
       "      <td>3</td>\n",
       "      <td>172</td>\n",
       "    </tr>\n",
       "  </tbody>\n",
       "</table>\n",
       "</div>"
      ],
      "text/plain": [
       "   050335  050305  050316  050322  050302  050320  050330  050373  050304  \\\n",
       "0     5.5     7.2     7.3     7.5     7.3     1.3     7.2     9.7     9.0   \n",
       "1     8.3     8.5    10.0     8.2     7.3     6.0     8.5     9.7     8.5   \n",
       "2     7.3     6.3     5.0     6.2     4.8     4.7     7.5     6.0     2.7   \n",
       "3     8.2     6.5     8.5     5.5     7.6     7.7     8.5     7.7     9.0   \n",
       "4     2.8     6.8     7.2     3.7     6.8     2.0     5.5     0.0     3.0   \n",
       "\n",
       "   diemtichluy  gender   hometown  id  status  tctl  \n",
       "0         2.77       1  Thái Bình   1       3   172  \n",
       "1         3.06       1  Thanh Hóa   2       3   172  \n",
       "2         2.66       0  TP Hà nội   4       3   172  \n",
       "3         2.90       1   Nam Định   5       3   172  \n",
       "4         2.29       1   Nam Định   7       3   172  "
      ]
     },
     "execution_count": 349,
     "metadata": {},
     "output_type": "execute_result"
    }
   ],
   "source": [
    "X_test.head()"
   ]
  },
  {
   "cell_type": "code",
   "execution_count": 350,
   "metadata": {},
   "outputs": [
    {
     "data": {
      "text/plain": [
       "Index(['050335', '050305', '050316', '050322', '050302', '050320', '050330',\n",
       "       '050373', '050304', 'diemtichluy', 'gender', 'hometown', 'id', 'status',\n",
       "       'tctl', 'isreal', 'salary'],\n",
       "      dtype='object')"
      ]
     },
     "execution_count": 350,
     "metadata": {},
     "output_type": "execute_result"
    }
   ],
   "source": [
    "features = X_train.columns\n",
    "features"
   ]
  },
  {
   "cell_type": "markdown",
   "metadata": {},
   "source": [
    "## Các features được đưa vào model để huấn luyện"
   ]
  },
  {
   "cell_type": "code",
   "execution_count": 351,
   "metadata": {},
   "outputs": [
    {
     "name": "stdout",
     "output_type": "stream",
     "text": [
      "Toán rời rạc\n",
      "Cơ sở dữ liệu\n",
      "Kỹ thuật lập trình\n",
      "Mạng máy tính\n",
      "Cấu trúc dữ liệu và giải thuật\n",
      "Lập trình hướng đối tượng\n",
      "Phân tích thiết kế hệ thống\n",
      "Thiết kế web\n",
      "Công nghệ XML\n"
     ]
    }
   ],
   "source": [
    "for i in range(len(data_jobCourse)):\n",
    "        if(data_jobCourse['name'][i] in features):\n",
    "            print(data_jobCourse['display'][i])"
   ]
  },
  {
   "cell_type": "markdown",
   "metadata": {},
   "source": [
    "## Xử lí các dữ liệu bị trống và chuyển thuộc tính quê quán về dạng category"
   ]
  },
  {
   "cell_type": "code",
   "execution_count": 352,
   "metadata": {
    "collapsed": true
   },
   "outputs": [],
   "source": [
    "#impute missing value\n",
    "for i in range(9):\n",
    "    X_train[features[i]].fillna(X_train[features[i]].mean() , inplace = True)\n",
    "    X_test[features[i]].fillna(X_test[features[i]].mean() , inplace = True)"
   ]
  },
  {
   "cell_type": "code",
   "execution_count": 353,
   "metadata": {
    "collapsed": true
   },
   "outputs": [],
   "source": [
    "X_train['hometown'] = X_train['hometown'].astype('category')\n",
    "X_train['hometown'] =  X_train['hometown'].cat.codes"
   ]
  },
  {
   "cell_type": "code",
   "execution_count": 354,
   "metadata": {
    "collapsed": true
   },
   "outputs": [],
   "source": [
    "X_test['hometown'] = X_test['hometown'].astype('category')\n",
    "X_test['hometown'] =  X_test['hometown'].cat.codes"
   ]
  },
  {
   "cell_type": "code",
   "execution_count": 355,
   "metadata": {},
   "outputs": [
    {
     "data": {
      "text/plain": [
       "(214, 17)"
      ]
     },
     "execution_count": 355,
     "metadata": {},
     "output_type": "execute_result"
    }
   ],
   "source": [
    "X_train.shape"
   ]
  },
  {
   "cell_type": "code",
   "execution_count": 356,
   "metadata": {},
   "outputs": [
    {
     "data": {
      "text/plain": [
       "050335         0.0\n",
       "050305         0.0\n",
       "050316         0.0\n",
       "050322         0.0\n",
       "050302         0.0\n",
       "050320         0.0\n",
       "050330         0.0\n",
       "050373         0.0\n",
       "050304         0.0\n",
       "diemtichluy    0.0\n",
       "gender         0.0\n",
       "hometown       0.0\n",
       "id             0.0\n",
       "status         0.0\n",
       "tctl           0.0\n",
       "isreal         0.0\n",
       "salary         0.0\n",
       "dtype: float64"
      ]
     },
     "execution_count": 356,
     "metadata": {},
     "output_type": "execute_result"
    }
   ],
   "source": [
    "X_train.isnull().sum() / X_train.count()"
   ]
  },
  {
   "cell_type": "code",
   "execution_count": 357,
   "metadata": {},
   "outputs": [
    {
     "data": {
      "text/plain": [
       "(2071, 15)"
      ]
     },
     "execution_count": 357,
     "metadata": {},
     "output_type": "execute_result"
    }
   ],
   "source": [
    "X_test.shape"
   ]
  },
  {
   "cell_type": "code",
   "execution_count": 358,
   "metadata": {},
   "outputs": [
    {
     "data": {
      "text/plain": [
       "050335         0.0\n",
       "050305         0.0\n",
       "050316         0.0\n",
       "050322         0.0\n",
       "050302         0.0\n",
       "050320         0.0\n",
       "050330         0.0\n",
       "050373         0.0\n",
       "050304         0.0\n",
       "diemtichluy    0.0\n",
       "gender         0.0\n",
       "hometown       0.0\n",
       "id             0.0\n",
       "status         0.0\n",
       "tctl           0.0\n",
       "dtype: float64"
      ]
     },
     "execution_count": 358,
     "metadata": {},
     "output_type": "execute_result"
    }
   ],
   "source": [
    "X_test.isnull().sum() / X_test.count()"
   ]
  },
  {
   "cell_type": "markdown",
   "metadata": {},
   "source": [
    "## Training model "
   ]
  },
  {
   "cell_type": "code",
   "execution_count": 359,
   "metadata": {},
   "outputs": [
    {
     "data": {
      "text/plain": [
       "0.8456346332142068"
      ]
     },
     "execution_count": 359,
     "metadata": {},
     "output_type": "execute_result"
    }
   ],
   "source": [
    "from sklearn.ensemble import RandomForestRegressor\n",
    "\n",
    "train_id = np.array(X_train['id'])\n",
    "test_id = np.array(X_test['id'])\n",
    "X_train = X_train[['050316' ,'050302' , '050305' , '050320' ]]\n",
    "X_test = X_test[['050316' ,'050302' , '050305' , '050320' ]]\n",
    "\n",
    "#Random forest model\n",
    "random_forest_model = RandomForestRegressor(n_jobs = -1, min_samples_leaf = 1 , n_estimators = 200)\n",
    "random_forest_model.fit(X_train , Y_train)\n",
    "random_forest_model.score(X_train , Y_train)"
   ]
  },
  {
   "cell_type": "code",
   "execution_count": 360,
   "metadata": {},
   "outputs": [
    {
     "name": "stdout",
     "output_type": "stream",
     "text": [
      "(2071,)\n",
      "(2071, 4)\n"
     ]
    }
   ],
   "source": [
    "print(test_id.shape)\n",
    "print(X_test.shape)"
   ]
  },
  {
   "cell_type": "code",
   "execution_count": 361,
   "metadata": {},
   "outputs": [],
   "source": [
    "predict = random_forest_model.predict(X_test) \n",
    "salary = pd.DataFrame({'salary' : predict , 'id' : test_id })\n",
    "predict_salary =  salary"
   ]
  },
  {
   "cell_type": "code",
   "execution_count": 362,
   "metadata": {},
   "outputs": [
    {
     "data": {
      "text/html": [
       "<div>\n",
       "<style>\n",
       "    .dataframe thead tr:only-child th {\n",
       "        text-align: right;\n",
       "    }\n",
       "\n",
       "    .dataframe thead th {\n",
       "        text-align: left;\n",
       "    }\n",
       "\n",
       "    .dataframe tbody tr th {\n",
       "        vertical-align: top;\n",
       "    }\n",
       "</style>\n",
       "<table border=\"1\" class=\"dataframe\">\n",
       "  <thead>\n",
       "    <tr style=\"text-align: right;\">\n",
       "      <th></th>\n",
       "      <th>id</th>\n",
       "      <th>salary</th>\n",
       "    </tr>\n",
       "  </thead>\n",
       "  <tbody>\n",
       "    <tr>\n",
       "      <th>count</th>\n",
       "      <td>2071.000000</td>\n",
       "      <td>2.071000e+03</td>\n",
       "    </tr>\n",
       "    <tr>\n",
       "      <th>mean</th>\n",
       "      <td>2853.179141</td>\n",
       "      <td>8.125338e+06</td>\n",
       "    </tr>\n",
       "    <tr>\n",
       "      <th>std</th>\n",
       "      <td>1951.464314</td>\n",
       "      <td>1.462460e+06</td>\n",
       "    </tr>\n",
       "    <tr>\n",
       "      <th>min</th>\n",
       "      <td>1.000000</td>\n",
       "      <td>4.160000e+06</td>\n",
       "    </tr>\n",
       "    <tr>\n",
       "      <th>25%</th>\n",
       "      <td>978.000000</td>\n",
       "      <td>7.330000e+06</td>\n",
       "    </tr>\n",
       "    <tr>\n",
       "      <th>50%</th>\n",
       "      <td>4043.000000</td>\n",
       "      <td>7.680000e+06</td>\n",
       "    </tr>\n",
       "    <tr>\n",
       "      <th>75%</th>\n",
       "      <td>4655.500000</td>\n",
       "      <td>8.935000e+06</td>\n",
       "    </tr>\n",
       "    <tr>\n",
       "      <th>max</th>\n",
       "      <td>5333.000000</td>\n",
       "      <td>1.371500e+07</td>\n",
       "    </tr>\n",
       "  </tbody>\n",
       "</table>\n",
       "</div>"
      ],
      "text/plain": [
       "                id        salary\n",
       "count  2071.000000  2.071000e+03\n",
       "mean   2853.179141  8.125338e+06\n",
       "std    1951.464314  1.462460e+06\n",
       "min       1.000000  4.160000e+06\n",
       "25%     978.000000  7.330000e+06\n",
       "50%    4043.000000  7.680000e+06\n",
       "75%    4655.500000  8.935000e+06\n",
       "max    5333.000000  1.371500e+07"
      ]
     },
     "execution_count": 362,
     "metadata": {},
     "output_type": "execute_result"
    }
   ],
   "source": [
    "predict_salary.describe()"
   ]
  },
  {
   "cell_type": "code",
   "execution_count": 363,
   "metadata": {},
   "outputs": [
    {
     "data": {
      "text/plain": [
       "count    2.140000e+02\n",
       "mean     8.144860e+06\n",
       "std      4.511076e+06\n",
       "min      3.000000e+06\n",
       "25%      5.000000e+06\n",
       "50%      7.000000e+06\n",
       "75%      1.000000e+07\n",
       "max      2.000000e+07\n",
       "Name: salary, dtype: float64"
      ]
     },
     "execution_count": 363,
     "metadata": {},
     "output_type": "execute_result"
    }
   ],
   "source": [
    "Y_train.describe()"
   ]
  },
  {
   "cell_type": "code",
   "execution_count": 364,
   "metadata": {},
   "outputs": [
    {
     "name": "stdout",
     "output_type": "stream",
     "text": [
      "(2071, 2)\n"
     ]
    },
    {
     "data": {
      "text/html": [
       "<div>\n",
       "<style>\n",
       "    .dataframe thead tr:only-child th {\n",
       "        text-align: right;\n",
       "    }\n",
       "\n",
       "    .dataframe thead th {\n",
       "        text-align: left;\n",
       "    }\n",
       "\n",
       "    .dataframe tbody tr th {\n",
       "        vertical-align: top;\n",
       "    }\n",
       "</style>\n",
       "<table border=\"1\" class=\"dataframe\">\n",
       "  <thead>\n",
       "    <tr style=\"text-align: right;\">\n",
       "      <th></th>\n",
       "      <th>id</th>\n",
       "      <th>salary</th>\n",
       "    </tr>\n",
       "  </thead>\n",
       "  <tbody>\n",
       "    <tr>\n",
       "      <th>count</th>\n",
       "      <td>2071.000000</td>\n",
       "      <td>2.071000e+03</td>\n",
       "    </tr>\n",
       "    <tr>\n",
       "      <th>mean</th>\n",
       "      <td>2853.179141</td>\n",
       "      <td>8.125338e+06</td>\n",
       "    </tr>\n",
       "    <tr>\n",
       "      <th>std</th>\n",
       "      <td>1951.464314</td>\n",
       "      <td>1.462460e+06</td>\n",
       "    </tr>\n",
       "    <tr>\n",
       "      <th>min</th>\n",
       "      <td>1.000000</td>\n",
       "      <td>4.160000e+06</td>\n",
       "    </tr>\n",
       "    <tr>\n",
       "      <th>25%</th>\n",
       "      <td>978.000000</td>\n",
       "      <td>7.330000e+06</td>\n",
       "    </tr>\n",
       "    <tr>\n",
       "      <th>50%</th>\n",
       "      <td>4043.000000</td>\n",
       "      <td>7.680000e+06</td>\n",
       "    </tr>\n",
       "    <tr>\n",
       "      <th>75%</th>\n",
       "      <td>4655.500000</td>\n",
       "      <td>8.935000e+06</td>\n",
       "    </tr>\n",
       "    <tr>\n",
       "      <th>max</th>\n",
       "      <td>5333.000000</td>\n",
       "      <td>1.371500e+07</td>\n",
       "    </tr>\n",
       "  </tbody>\n",
       "</table>\n",
       "</div>"
      ],
      "text/plain": [
       "                id        salary\n",
       "count  2071.000000  2.071000e+03\n",
       "mean   2853.179141  8.125338e+06\n",
       "std    1951.464314  1.462460e+06\n",
       "min       1.000000  4.160000e+06\n",
       "25%     978.000000  7.330000e+06\n",
       "50%    4043.000000  7.680000e+06\n",
       "75%    4655.500000  8.935000e+06\n",
       "max    5333.000000  1.371500e+07"
      ]
     },
     "execution_count": 364,
     "metadata": {},
     "output_type": "execute_result"
    }
   ],
   "source": [
    "print(predict_salary.shape)\n",
    "predict_salary.describe()"
   ]
  },
  {
   "cell_type": "code",
   "execution_count": 365,
   "metadata": {},
   "outputs": [
    {
     "name": "stdout",
     "output_type": "stream",
     "text": [
      "0.5373831775700935\n"
     ]
    },
    {
     "data": {
      "text/html": [
       "<div>\n",
       "<style>\n",
       "    .dataframe thead tr:only-child th {\n",
       "        text-align: right;\n",
       "    }\n",
       "\n",
       "    .dataframe thead th {\n",
       "        text-align: left;\n",
       "    }\n",
       "\n",
       "    .dataframe tbody tr th {\n",
       "        vertical-align: top;\n",
       "    }\n",
       "</style>\n",
       "<table border=\"1\" class=\"dataframe\">\n",
       "  <thead>\n",
       "    <tr style=\"text-align: right;\">\n",
       "      <th></th>\n",
       "      <th>id</th>\n",
       "      <th>salary</th>\n",
       "    </tr>\n",
       "  </thead>\n",
       "  <tbody>\n",
       "    <tr>\n",
       "      <th>count</th>\n",
       "      <td>2071.000000</td>\n",
       "      <td>2.071000e+03</td>\n",
       "    </tr>\n",
       "    <tr>\n",
       "      <th>mean</th>\n",
       "      <td>2853.179141</td>\n",
       "      <td>7.724288e+06</td>\n",
       "    </tr>\n",
       "    <tr>\n",
       "      <th>std</th>\n",
       "      <td>1951.464314</td>\n",
       "      <td>4.337321e+06</td>\n",
       "    </tr>\n",
       "    <tr>\n",
       "      <th>min</th>\n",
       "      <td>1.000000</td>\n",
       "      <td>3.000000e+06</td>\n",
       "    </tr>\n",
       "    <tr>\n",
       "      <th>25%</th>\n",
       "      <td>978.000000</td>\n",
       "      <td>3.000000e+06</td>\n",
       "    </tr>\n",
       "    <tr>\n",
       "      <th>50%</th>\n",
       "      <td>4043.000000</td>\n",
       "      <td>7.000000e+06</td>\n",
       "    </tr>\n",
       "    <tr>\n",
       "      <th>75%</th>\n",
       "      <td>4655.500000</td>\n",
       "      <td>1.000000e+07</td>\n",
       "    </tr>\n",
       "    <tr>\n",
       "      <th>max</th>\n",
       "      <td>5333.000000</td>\n",
       "      <td>1.500000e+07</td>\n",
       "    </tr>\n",
       "  </tbody>\n",
       "</table>\n",
       "</div>"
      ],
      "text/plain": [
       "                id        salary\n",
       "count  2071.000000  2.071000e+03\n",
       "mean   2853.179141  7.724288e+06\n",
       "std    1951.464314  4.337321e+06\n",
       "min       1.000000  3.000000e+06\n",
       "25%     978.000000  3.000000e+06\n",
       "50%    4043.000000  7.000000e+06\n",
       "75%    4655.500000  1.000000e+07\n",
       "max    5333.000000  1.500000e+07"
      ]
     },
     "execution_count": 365,
     "metadata": {},
     "output_type": "execute_result"
    }
   ],
   "source": [
    "#KNN model\n",
    "from sklearn.neighbors import KNeighborsClassifier\n",
    "kneigh = KNeighborsClassifier(n_neighbors=3) \n",
    "kneigh.fit(X_train, Y_train) \n",
    "print(kneigh.score(X_train , Y_train))\n",
    "kneigh_predict = pd.DataFrame({'salary' :kneigh.predict(X_test) , 'id' : test_id})\n",
    "kneigh_predict.describe()"
   ]
  },
  {
   "cell_type": "code",
   "execution_count": 366,
   "metadata": {},
   "outputs": [],
   "source": [
    "array_x_test = np.array(X_test)\n",
    "X_test = pd.DataFrame(array_x_test , columns = ['050316' ,'050302' , '050305' , '050320'])\n",
    "test_df =  pd.concat([kneigh_predict , X_test] , axis = 1)"
   ]
  },
  {
   "cell_type": "code",
   "execution_count": 367,
   "metadata": {},
   "outputs": [
    {
     "data": {
      "text/html": [
       "<div>\n",
       "<style>\n",
       "    .dataframe thead tr:only-child th {\n",
       "        text-align: right;\n",
       "    }\n",
       "\n",
       "    .dataframe thead th {\n",
       "        text-align: left;\n",
       "    }\n",
       "\n",
       "    .dataframe tbody tr th {\n",
       "        vertical-align: top;\n",
       "    }\n",
       "</style>\n",
       "<table border=\"1\" class=\"dataframe\">\n",
       "  <thead>\n",
       "    <tr style=\"text-align: right;\">\n",
       "      <th></th>\n",
       "      <th>id</th>\n",
       "      <th>salary</th>\n",
       "      <th>050316</th>\n",
       "      <th>050302</th>\n",
       "      <th>050305</th>\n",
       "      <th>050320</th>\n",
       "    </tr>\n",
       "  </thead>\n",
       "  <tbody>\n",
       "    <tr>\n",
       "      <th>count</th>\n",
       "      <td>2071.000000</td>\n",
       "      <td>2.071000e+03</td>\n",
       "      <td>2071.000000</td>\n",
       "      <td>2071.000000</td>\n",
       "      <td>2071.000000</td>\n",
       "      <td>2071.000000</td>\n",
       "    </tr>\n",
       "    <tr>\n",
       "      <th>mean</th>\n",
       "      <td>2853.179141</td>\n",
       "      <td>7.724288e+06</td>\n",
       "      <td>7.107235</td>\n",
       "      <td>6.409197</td>\n",
       "      <td>6.451875</td>\n",
       "      <td>6.359862</td>\n",
       "    </tr>\n",
       "    <tr>\n",
       "      <th>std</th>\n",
       "      <td>1951.464314</td>\n",
       "      <td>4.337321e+06</td>\n",
       "      <td>1.362119</td>\n",
       "      <td>1.455485</td>\n",
       "      <td>1.277563</td>\n",
       "      <td>1.925481</td>\n",
       "    </tr>\n",
       "    <tr>\n",
       "      <th>min</th>\n",
       "      <td>1.000000</td>\n",
       "      <td>3.000000e+06</td>\n",
       "      <td>0.000000</td>\n",
       "      <td>0.000000</td>\n",
       "      <td>0.000000</td>\n",
       "      <td>0.000000</td>\n",
       "    </tr>\n",
       "    <tr>\n",
       "      <th>25%</th>\n",
       "      <td>978.000000</td>\n",
       "      <td>3.000000e+06</td>\n",
       "      <td>6.500000</td>\n",
       "      <td>5.800000</td>\n",
       "      <td>6.000000</td>\n",
       "      <td>5.800000</td>\n",
       "    </tr>\n",
       "    <tr>\n",
       "      <th>50%</th>\n",
       "      <td>4043.000000</td>\n",
       "      <td>7.000000e+06</td>\n",
       "      <td>7.107235</td>\n",
       "      <td>6.409197</td>\n",
       "      <td>6.451875</td>\n",
       "      <td>6.359862</td>\n",
       "    </tr>\n",
       "    <tr>\n",
       "      <th>75%</th>\n",
       "      <td>4655.500000</td>\n",
       "      <td>1.000000e+07</td>\n",
       "      <td>7.800000</td>\n",
       "      <td>7.200000</td>\n",
       "      <td>7.200000</td>\n",
       "      <td>7.500000</td>\n",
       "    </tr>\n",
       "    <tr>\n",
       "      <th>max</th>\n",
       "      <td>5333.000000</td>\n",
       "      <td>1.500000e+07</td>\n",
       "      <td>10.000000</td>\n",
       "      <td>10.000000</td>\n",
       "      <td>10.000000</td>\n",
       "      <td>10.000000</td>\n",
       "    </tr>\n",
       "  </tbody>\n",
       "</table>\n",
       "</div>"
      ],
      "text/plain": [
       "                id        salary       050316       050302       050305  \\\n",
       "count  2071.000000  2.071000e+03  2071.000000  2071.000000  2071.000000   \n",
       "mean   2853.179141  7.724288e+06     7.107235     6.409197     6.451875   \n",
       "std    1951.464314  4.337321e+06     1.362119     1.455485     1.277563   \n",
       "min       1.000000  3.000000e+06     0.000000     0.000000     0.000000   \n",
       "25%     978.000000  3.000000e+06     6.500000     5.800000     6.000000   \n",
       "50%    4043.000000  7.000000e+06     7.107235     6.409197     6.451875   \n",
       "75%    4655.500000  1.000000e+07     7.800000     7.200000     7.200000   \n",
       "max    5333.000000  1.500000e+07    10.000000    10.000000    10.000000   \n",
       "\n",
       "            050320  \n",
       "count  2071.000000  \n",
       "mean      6.359862  \n",
       "std       1.925481  \n",
       "min       0.000000  \n",
       "25%       5.800000  \n",
       "50%       6.359862  \n",
       "75%       7.500000  \n",
       "max      10.000000  "
      ]
     },
     "execution_count": 367,
     "metadata": {},
     "output_type": "execute_result"
    }
   ],
   "source": [
    "test_df.describe()"
   ]
  },
  {
   "cell_type": "code",
   "execution_count": 368,
   "metadata": {},
   "outputs": [
    {
     "data": {
      "text/plain": [
       "id        0\n",
       "salary    0\n",
       "050316    0\n",
       "050302    0\n",
       "050305    0\n",
       "050320    0\n",
       "dtype: int64"
      ]
     },
     "execution_count": 368,
     "metadata": {},
     "output_type": "execute_result"
    }
   ],
   "source": [
    "test_df.isnull().sum()"
   ]
  },
  {
   "cell_type": "code",
   "execution_count": 369,
   "metadata": {},
   "outputs": [],
   "source": [
    "Y_train = pd.DataFrame({'salary' : Y_train , 'id' : train_id})\n",
    "train_df = pd.concat([X_train , Y_train] , axis= 1)"
   ]
  },
  {
   "cell_type": "code",
   "execution_count": 370,
   "metadata": {},
   "outputs": [
    {
     "data": {
      "text/html": [
       "<div>\n",
       "<style>\n",
       "    .dataframe thead tr:only-child th {\n",
       "        text-align: right;\n",
       "    }\n",
       "\n",
       "    .dataframe thead th {\n",
       "        text-align: left;\n",
       "    }\n",
       "\n",
       "    .dataframe tbody tr th {\n",
       "        vertical-align: top;\n",
       "    }\n",
       "</style>\n",
       "<table border=\"1\" class=\"dataframe\">\n",
       "  <thead>\n",
       "    <tr style=\"text-align: right;\">\n",
       "      <th></th>\n",
       "      <th>050316</th>\n",
       "      <th>050302</th>\n",
       "      <th>050305</th>\n",
       "      <th>050320</th>\n",
       "      <th>id</th>\n",
       "      <th>salary</th>\n",
       "    </tr>\n",
       "  </thead>\n",
       "  <tbody>\n",
       "    <tr>\n",
       "      <th>count</th>\n",
       "      <td>214.000000</td>\n",
       "      <td>214.000000</td>\n",
       "      <td>214.000000</td>\n",
       "      <td>214.000000</td>\n",
       "      <td>214.000000</td>\n",
       "      <td>2.140000e+02</td>\n",
       "    </tr>\n",
       "    <tr>\n",
       "      <th>mean</th>\n",
       "      <td>7.214486</td>\n",
       "      <td>5.900935</td>\n",
       "      <td>6.858000</td>\n",
       "      <td>6.250500</td>\n",
       "      <td>1054.257009</td>\n",
       "      <td>8.144860e+06</td>\n",
       "    </tr>\n",
       "    <tr>\n",
       "      <th>std</th>\n",
       "      <td>1.835801</td>\n",
       "      <td>1.927293</td>\n",
       "      <td>1.446068</td>\n",
       "      <td>2.140708</td>\n",
       "      <td>1131.705445</td>\n",
       "      <td>4.511076e+06</td>\n",
       "    </tr>\n",
       "    <tr>\n",
       "      <th>min</th>\n",
       "      <td>0.000000</td>\n",
       "      <td>0.000000</td>\n",
       "      <td>0.000000</td>\n",
       "      <td>0.000000</td>\n",
       "      <td>560.000000</td>\n",
       "      <td>3.000000e+06</td>\n",
       "    </tr>\n",
       "    <tr>\n",
       "      <th>25%</th>\n",
       "      <td>6.200000</td>\n",
       "      <td>4.800000</td>\n",
       "      <td>5.850000</td>\n",
       "      <td>5.100000</td>\n",
       "      <td>651.250000</td>\n",
       "      <td>5.000000e+06</td>\n",
       "    </tr>\n",
       "    <tr>\n",
       "      <th>50%</th>\n",
       "      <td>7.300000</td>\n",
       "      <td>6.200000</td>\n",
       "      <td>6.858000</td>\n",
       "      <td>6.250500</td>\n",
       "      <td>768.500000</td>\n",
       "      <td>7.000000e+06</td>\n",
       "    </tr>\n",
       "    <tr>\n",
       "      <th>75%</th>\n",
       "      <td>8.700000</td>\n",
       "      <td>7.300000</td>\n",
       "      <td>8.000000</td>\n",
       "      <td>7.775000</td>\n",
       "      <td>879.750000</td>\n",
       "      <td>1.000000e+07</td>\n",
       "    </tr>\n",
       "    <tr>\n",
       "      <th>max</th>\n",
       "      <td>10.000000</td>\n",
       "      <td>9.400000</td>\n",
       "      <td>9.700000</td>\n",
       "      <td>10.000000</td>\n",
       "      <td>5307.000000</td>\n",
       "      <td>2.000000e+07</td>\n",
       "    </tr>\n",
       "  </tbody>\n",
       "</table>\n",
       "</div>"
      ],
      "text/plain": [
       "           050316      050302      050305      050320           id  \\\n",
       "count  214.000000  214.000000  214.000000  214.000000   214.000000   \n",
       "mean     7.214486    5.900935    6.858000    6.250500  1054.257009   \n",
       "std      1.835801    1.927293    1.446068    2.140708  1131.705445   \n",
       "min      0.000000    0.000000    0.000000    0.000000   560.000000   \n",
       "25%      6.200000    4.800000    5.850000    5.100000   651.250000   \n",
       "50%      7.300000    6.200000    6.858000    6.250500   768.500000   \n",
       "75%      8.700000    7.300000    8.000000    7.775000   879.750000   \n",
       "max     10.000000    9.400000    9.700000   10.000000  5307.000000   \n",
       "\n",
       "             salary  \n",
       "count  2.140000e+02  \n",
       "mean   8.144860e+06  \n",
       "std    4.511076e+06  \n",
       "min    3.000000e+06  \n",
       "25%    5.000000e+06  \n",
       "50%    7.000000e+06  \n",
       "75%    1.000000e+07  \n",
       "max    2.000000e+07  "
      ]
     },
     "execution_count": 370,
     "metadata": {},
     "output_type": "execute_result"
    }
   ],
   "source": [
    "train_df.describe()"
   ]
  },
  {
   "cell_type": "markdown",
   "metadata": {},
   "source": [
    "## Kết hợp dữ liệu thu thập được và dữ liệu dùng mô hình để dự đoán mức lương"
   ]
  },
  {
   "cell_type": "code",
   "execution_count": 371,
   "metadata": {},
   "outputs": [],
   "source": [
    "train_df = np.array(train_df)\n",
    "train_df = pd.DataFrame(train_df, columns = ['050316' ,'050302' , '050305' , '050320' , 'salary' , 'id'])\n",
    "train_df_new  = pd.concat([train_df , test_df])"
   ]
  },
  {
   "cell_type": "code",
   "execution_count": 372,
   "metadata": {},
   "outputs": [
    {
     "data": {
      "text/html": [
       "<div>\n",
       "<style>\n",
       "    .dataframe thead tr:only-child th {\n",
       "        text-align: right;\n",
       "    }\n",
       "\n",
       "    .dataframe thead th {\n",
       "        text-align: left;\n",
       "    }\n",
       "\n",
       "    .dataframe tbody tr th {\n",
       "        vertical-align: top;\n",
       "    }\n",
       "</style>\n",
       "<table border=\"1\" class=\"dataframe\">\n",
       "  <thead>\n",
       "    <tr style=\"text-align: right;\">\n",
       "      <th></th>\n",
       "      <th>050302</th>\n",
       "      <th>050305</th>\n",
       "      <th>050316</th>\n",
       "      <th>050320</th>\n",
       "      <th>id</th>\n",
       "      <th>salary</th>\n",
       "    </tr>\n",
       "  </thead>\n",
       "  <tbody>\n",
       "    <tr>\n",
       "      <th>count</th>\n",
       "      <td>2285.000000</td>\n",
       "      <td>2285.000000</td>\n",
       "      <td>2285.000000</td>\n",
       "      <td>2285.000000</td>\n",
       "      <td>2.285000e+03</td>\n",
       "      <td>2.285000e+03</td>\n",
       "    </tr>\n",
       "    <tr>\n",
       "      <th>mean</th>\n",
       "      <td>6.361596</td>\n",
       "      <td>6.489911</td>\n",
       "      <td>7.117279</td>\n",
       "      <td>6.349620</td>\n",
       "      <td>7.653868e+05</td>\n",
       "      <td>7.000974e+06</td>\n",
       "    </tr>\n",
       "    <tr>\n",
       "      <th>std</th>\n",
       "      <td>1.512708</td>\n",
       "      <td>1.299330</td>\n",
       "      <td>1.413082</td>\n",
       "      <td>1.946403</td>\n",
       "      <td>2.743599e+06</td>\n",
       "      <td>4.702667e+06</td>\n",
       "    </tr>\n",
       "    <tr>\n",
       "      <th>min</th>\n",
       "      <td>0.000000</td>\n",
       "      <td>0.000000</td>\n",
       "      <td>0.000000</td>\n",
       "      <td>0.000000</td>\n",
       "      <td>1.000000e+00</td>\n",
       "      <td>5.600000e+02</td>\n",
       "    </tr>\n",
       "    <tr>\n",
       "      <th>25%</th>\n",
       "      <td>5.700000</td>\n",
       "      <td>6.000000</td>\n",
       "      <td>6.500000</td>\n",
       "      <td>5.700000</td>\n",
       "      <td>1.053000e+03</td>\n",
       "      <td>3.000000e+06</td>\n",
       "    </tr>\n",
       "    <tr>\n",
       "      <th>50%</th>\n",
       "      <td>6.409197</td>\n",
       "      <td>6.451875</td>\n",
       "      <td>7.107235</td>\n",
       "      <td>6.359862</td>\n",
       "      <td>4.171000e+03</td>\n",
       "      <td>7.000000e+06</td>\n",
       "    </tr>\n",
       "    <tr>\n",
       "      <th>75%</th>\n",
       "      <td>7.200000</td>\n",
       "      <td>7.200000</td>\n",
       "      <td>8.000000</td>\n",
       "      <td>7.500000</td>\n",
       "      <td>4.847000e+03</td>\n",
       "      <td>1.000000e+07</td>\n",
       "    </tr>\n",
       "    <tr>\n",
       "      <th>max</th>\n",
       "      <td>10.000000</td>\n",
       "      <td>10.000000</td>\n",
       "      <td>10.000000</td>\n",
       "      <td>10.000000</td>\n",
       "      <td>2.000000e+07</td>\n",
       "      <td>1.500000e+07</td>\n",
       "    </tr>\n",
       "  </tbody>\n",
       "</table>\n",
       "</div>"
      ],
      "text/plain": [
       "            050302       050305       050316       050320            id  \\\n",
       "count  2285.000000  2285.000000  2285.000000  2285.000000  2.285000e+03   \n",
       "mean      6.361596     6.489911     7.117279     6.349620  7.653868e+05   \n",
       "std       1.512708     1.299330     1.413082     1.946403  2.743599e+06   \n",
       "min       0.000000     0.000000     0.000000     0.000000  1.000000e+00   \n",
       "25%       5.700000     6.000000     6.500000     5.700000  1.053000e+03   \n",
       "50%       6.409197     6.451875     7.107235     6.359862  4.171000e+03   \n",
       "75%       7.200000     7.200000     8.000000     7.500000  4.847000e+03   \n",
       "max      10.000000    10.000000    10.000000    10.000000  2.000000e+07   \n",
       "\n",
       "             salary  \n",
       "count  2.285000e+03  \n",
       "mean   7.000974e+06  \n",
       "std    4.702667e+06  \n",
       "min    5.600000e+02  \n",
       "25%    3.000000e+06  \n",
       "50%    7.000000e+06  \n",
       "75%    1.000000e+07  \n",
       "max    1.500000e+07  "
      ]
     },
     "execution_count": 372,
     "metadata": {},
     "output_type": "execute_result"
    }
   ],
   "source": [
    "train_df_new.describe()"
   ]
  },
  {
   "cell_type": "code",
   "execution_count": 373,
   "metadata": {},
   "outputs": [
    {
     "data": {
      "text/plain": [
       "050302    0.0\n",
       "050305    0.0\n",
       "050316    0.0\n",
       "050320    0.0\n",
       "id        NaN\n",
       "salary    NaN\n",
       "dtype: float64"
      ]
     },
     "execution_count": 373,
     "metadata": {},
     "output_type": "execute_result"
    }
   ],
   "source": [
    "train_df_new.isnull().sum() / X_train.count()"
   ]
  },
  {
   "cell_type": "markdown",
   "metadata": {},
   "source": [
    "## Phân chia tập dữ liệu huấn luyện và tập dữ liệu kiểm tra"
   ]
  },
  {
   "cell_type": "code",
   "execution_count": 374,
   "metadata": {},
   "outputs": [
    {
     "name": "stderr",
     "output_type": "stream",
     "text": [
      "E:\\dev\\Anaconda3\\envs\\keras_with_python3\\lib\\site-packages\\ipykernel_launcher.py:11: SettingWithCopyWarning: \n",
      "A value is trying to be set on a copy of a slice from a DataFrame\n",
      "\n",
      "See the caveats in the documentation: http://pandas.pydata.org/pandas-docs/stable/indexing.html#indexing-view-versus-copy\n",
      "  # This is added back by InteractiveShellApp.init_path()\n",
      "E:\\dev\\Anaconda3\\envs\\keras_with_python3\\lib\\site-packages\\ipykernel_launcher.py:12: SettingWithCopyWarning: \n",
      "A value is trying to be set on a copy of a slice from a DataFrame\n",
      "\n",
      "See the caveats in the documentation: http://pandas.pydata.org/pandas-docs/stable/indexing.html#indexing-view-versus-copy\n",
      "  if sys.path[0] == '':\n"
     ]
    }
   ],
   "source": [
    "#train test split\n",
    "from sklearn.cross_validation import train_test_split\n",
    "features_rdf = train_df_new.drop('salary' , axis = 1)\n",
    "target_rdf = train_df_new['salary']\n",
    "\n",
    "x_train, x_test, y_train, y_test = train_test_split(features_rdf, target_rdf, test_size=0.33, random_state=42)\n",
    "\n",
    "train_id = x_train['id']\n",
    "test_id = x_test['id']\n",
    "\n",
    "x_train.drop('id' , inplace = True)\n",
    "x_test.drop('id' , inplace = True)"
   ]
  },
  {
   "cell_type": "markdown",
   "metadata": {},
   "source": [
    "## Huấn luyện model sử dụng tập dữ liệu được kết hợp"
   ]
  },
  {
   "cell_type": "code",
   "execution_count": 407,
   "metadata": {},
   "outputs": [
    {
     "name": "stdout",
     "output_type": "stream",
     "text": [
      "0.9297225790901977\n"
     ]
    },
    {
     "data": {
      "text/html": [
       "<div>\n",
       "<style>\n",
       "    .dataframe thead tr:only-child th {\n",
       "        text-align: right;\n",
       "    }\n",
       "\n",
       "    .dataframe thead th {\n",
       "        text-align: left;\n",
       "    }\n",
       "\n",
       "    .dataframe tbody tr th {\n",
       "        vertical-align: top;\n",
       "    }\n",
       "</style>\n",
       "<table border=\"1\" class=\"dataframe\">\n",
       "  <thead>\n",
       "    <tr style=\"text-align: right;\">\n",
       "      <th></th>\n",
       "      <th>salary</th>\n",
       "    </tr>\n",
       "  </thead>\n",
       "  <tbody>\n",
       "    <tr>\n",
       "      <th>count</th>\n",
       "      <td>7.550000e+02</td>\n",
       "    </tr>\n",
       "    <tr>\n",
       "      <th>mean</th>\n",
       "      <td>7.083991e+06</td>\n",
       "    </tr>\n",
       "    <tr>\n",
       "      <th>std</th>\n",
       "      <td>3.213949e+06</td>\n",
       "    </tr>\n",
       "    <tr>\n",
       "      <th>min</th>\n",
       "      <td>6.717250e+02</td>\n",
       "    </tr>\n",
       "    <tr>\n",
       "      <th>25%</th>\n",
       "      <td>5.240000e+06</td>\n",
       "    </tr>\n",
       "    <tr>\n",
       "      <th>50%</th>\n",
       "      <td>7.225000e+06</td>\n",
       "    </tr>\n",
       "    <tr>\n",
       "      <th>75%</th>\n",
       "      <td>1.000000e+07</td>\n",
       "    </tr>\n",
       "    <tr>\n",
       "      <th>max</th>\n",
       "      <td>1.473000e+07</td>\n",
       "    </tr>\n",
       "  </tbody>\n",
       "</table>\n",
       "</div>"
      ],
      "text/plain": [
       "             salary\n",
       "count  7.550000e+02\n",
       "mean   7.083991e+06\n",
       "std    3.213949e+06\n",
       "min    6.717250e+02\n",
       "25%    5.240000e+06\n",
       "50%    7.225000e+06\n",
       "75%    1.000000e+07\n",
       "max    1.473000e+07"
      ]
     },
     "execution_count": 407,
     "metadata": {},
     "output_type": "execute_result"
    }
   ],
   "source": [
    "# random forest model\n",
    "random_forest_model = RandomForestRegressor(n_jobs = -1, min_samples_leaf = 1 , n_estimators = 200)\n",
    "random_forest_model.fit(x_train , y_train)\n",
    "print(random_forest_model.score(x_train,y_train))\n",
    "rdf_predict = pd.DataFrame({'salary' : random_forest_model.predict(x_test) })\n",
    "rdf_predict_df = pd.DataFrame({'salary' : random_forest_model.predict(x_test) , 'id' : test_id})\n",
    "rdf_predict.describe()"
   ]
  },
  {
   "cell_type": "code",
   "execution_count": 405,
   "metadata": {},
   "outputs": [
    {
     "name": "stdout",
     "output_type": "stream",
     "text": [
      "0.18138637835879934\n"
     ]
    }
   ],
   "source": [
    "# LASSO model\n",
    "from sklearn.linear_model import Ridge\n",
    "ridge = linear_model.Ridge(alpha=0.1)\n",
    "ridge.fit(x_train, y_train) \n",
    "print(ridge.score(x_train , y_train))\n",
    "ridge_predict = pd.DataFrame({'salary' : ridge.predict(x_test) })\n",
    "ridge_predict_df = pd.DataFrame({'salary' : ridge.predict(x_test) , 'id' : test_id})\n"
   ]
  },
  {
   "cell_type": "code",
   "execution_count": 406,
   "metadata": {},
   "outputs": [
    {
     "data": {
      "text/html": [
       "<div>\n",
       "<style>\n",
       "    .dataframe thead tr:only-child th {\n",
       "        text-align: right;\n",
       "    }\n",
       "\n",
       "    .dataframe thead th {\n",
       "        text-align: left;\n",
       "    }\n",
       "\n",
       "    .dataframe tbody tr th {\n",
       "        vertical-align: top;\n",
       "    }\n",
       "</style>\n",
       "<table border=\"1\" class=\"dataframe\">\n",
       "  <thead>\n",
       "    <tr style=\"text-align: right;\">\n",
       "      <th></th>\n",
       "      <th>salary</th>\n",
       "    </tr>\n",
       "  </thead>\n",
       "  <tbody>\n",
       "    <tr>\n",
       "      <th>count</th>\n",
       "      <td>7.550000e+02</td>\n",
       "    </tr>\n",
       "    <tr>\n",
       "      <th>mean</th>\n",
       "      <td>6.979214e+06</td>\n",
       "    </tr>\n",
       "    <tr>\n",
       "      <th>std</th>\n",
       "      <td>2.142017e+06</td>\n",
       "    </tr>\n",
       "    <tr>\n",
       "      <th>min</th>\n",
       "      <td>-6.951340e+06</td>\n",
       "    </tr>\n",
       "    <tr>\n",
       "      <th>25%</th>\n",
       "      <td>7.204138e+06</td>\n",
       "    </tr>\n",
       "    <tr>\n",
       "      <th>50%</th>\n",
       "      <td>7.561645e+06</td>\n",
       "    </tr>\n",
       "    <tr>\n",
       "      <th>75%</th>\n",
       "      <td>7.688896e+06</td>\n",
       "    </tr>\n",
       "    <tr>\n",
       "      <th>max</th>\n",
       "      <td>9.005916e+06</td>\n",
       "    </tr>\n",
       "  </tbody>\n",
       "</table>\n",
       "</div>"
      ],
      "text/plain": [
       "             salary\n",
       "count  7.550000e+02\n",
       "mean   6.979214e+06\n",
       "std    2.142017e+06\n",
       "min   -6.951340e+06\n",
       "25%    7.204138e+06\n",
       "50%    7.561645e+06\n",
       "75%    7.688896e+06\n",
       "max    9.005916e+06"
      ]
     },
     "execution_count": 406,
     "metadata": {},
     "output_type": "execute_result"
    }
   ],
   "source": [
    "ridge_predict.describe()"
   ]
  },
  {
   "cell_type": "code",
   "execution_count": 381,
   "metadata": {},
   "outputs": [
    {
     "data": {
      "text/plain": [
       "count    7.550000e+02\n",
       "mean     6.973629e+06\n",
       "std      4.710197e+06\n",
       "min      5.750000e+02\n",
       "25%      3.000000e+06\n",
       "50%      7.000000e+06\n",
       "75%      1.000000e+07\n",
       "max      1.500000e+07\n",
       "Name: salary, dtype: float64"
      ]
     },
     "execution_count": 381,
     "metadata": {},
     "output_type": "execute_result"
    }
   ],
   "source": [
    "y_test.describe()"
   ]
  },
  {
   "cell_type": "markdown",
   "metadata": {},
   "source": [
    "## Sử dụng r2_score để kiểm tra độ chính xác"
   ]
  },
  {
   "cell_type": "code",
   "execution_count": 378,
   "metadata": {},
   "outputs": [
    {
     "name": "stdout",
     "output_type": "stream",
     "text": [
      "random forest r2_metric score :  0.471614642875283\n",
      "knn r2_metric score :  -0.28621029077754256\n"
     ]
    }
   ],
   "source": [
    "from sklearn.metrics import r2_score\n",
    "rdf_score = r2_score(y_test , rdf_predict)\n",
    "knn_score = r2_score(y_test , kneigh_predict)\n",
    "print('random forest r2_metric score : ' , rdf_score)\n",
    "print('knn r2_metric score : ' , knn_score)"
   ]
  },
  {
   "cell_type": "markdown",
   "metadata": {},
   "source": [
    "## Đánh giá sinh viên dựa trên lương và in thông tin ra file cvs\n",
    "### Nếu sinh viên có thu nhập lớn hơn hoặc bằng 6 000 000 thì được đánh giá là phù hợp với ngành , ngược lại nếu nhỏ hơn 6 000 000 thì được đánh giá là không phù hợp"
   ]
  },
  {
   "cell_type": "code",
   "execution_count": 397,
   "metadata": {},
   "outputs": [],
   "source": [
    "rdf_predict_df['danhgia'] = rdf_predict_df['salary'].apply(lambda x : 'không phù hợp' if x < 6000000 else 'phù hợp')"
   ]
  },
  {
   "cell_type": "code",
   "execution_count": 398,
   "metadata": {},
   "outputs": [
    {
     "data": {
      "text/html": [
       "<div>\n",
       "<style>\n",
       "    .dataframe thead tr:only-child th {\n",
       "        text-align: right;\n",
       "    }\n",
       "\n",
       "    .dataframe thead th {\n",
       "        text-align: left;\n",
       "    }\n",
       "\n",
       "    .dataframe tbody tr th {\n",
       "        vertical-align: top;\n",
       "    }\n",
       "</style>\n",
       "<table border=\"1\" class=\"dataframe\">\n",
       "  <thead>\n",
       "    <tr style=\"text-align: right;\">\n",
       "      <th></th>\n",
       "      <th>id</th>\n",
       "      <th>salary</th>\n",
       "    </tr>\n",
       "  </thead>\n",
       "  <tbody>\n",
       "    <tr>\n",
       "      <th>count</th>\n",
       "      <td>7.550000e+02</td>\n",
       "      <td>7.550000e+02</td>\n",
       "    </tr>\n",
       "    <tr>\n",
       "      <th>mean</th>\n",
       "      <td>7.959228e+05</td>\n",
       "      <td>7.116572e+06</td>\n",
       "    </tr>\n",
       "    <tr>\n",
       "      <th>std</th>\n",
       "      <td>2.858447e+06</td>\n",
       "      <td>3.208705e+06</td>\n",
       "    </tr>\n",
       "    <tr>\n",
       "      <th>min</th>\n",
       "      <td>7.000000e+00</td>\n",
       "      <td>6.668800e+02</td>\n",
       "    </tr>\n",
       "    <tr>\n",
       "      <th>25%</th>\n",
       "      <td>1.011500e+03</td>\n",
       "      <td>5.412500e+06</td>\n",
       "    </tr>\n",
       "    <tr>\n",
       "      <th>50%</th>\n",
       "      <td>4.146000e+03</td>\n",
       "      <td>7.245000e+06</td>\n",
       "    </tr>\n",
       "    <tr>\n",
       "      <th>75%</th>\n",
       "      <td>4.849000e+03</td>\n",
       "      <td>1.000000e+07</td>\n",
       "    </tr>\n",
       "    <tr>\n",
       "      <th>max</th>\n",
       "      <td>2.000000e+07</td>\n",
       "      <td>1.478000e+07</td>\n",
       "    </tr>\n",
       "  </tbody>\n",
       "</table>\n",
       "</div>"
      ],
      "text/plain": [
       "                 id        salary\n",
       "count  7.550000e+02  7.550000e+02\n",
       "mean   7.959228e+05  7.116572e+06\n",
       "std    2.858447e+06  3.208705e+06\n",
       "min    7.000000e+00  6.668800e+02\n",
       "25%    1.011500e+03  5.412500e+06\n",
       "50%    4.146000e+03  7.245000e+06\n",
       "75%    4.849000e+03  1.000000e+07\n",
       "max    2.000000e+07  1.478000e+07"
      ]
     },
     "execution_count": 398,
     "metadata": {},
     "output_type": "execute_result"
    }
   ],
   "source": [
    "rdf_predict_df.describe()"
   ]
  },
  {
   "cell_type": "code",
   "execution_count": 399,
   "metadata": {
    "collapsed": true
   },
   "outputs": [],
   "source": [
    "#In thông tin ra file csv\n",
    "rdf_predict_df.to_csv('C:/Users/Luan/Desktop/danhgiasinhvien.csv' , index = False)"
   ]
  }
 ],
 "metadata": {
  "kernelspec": {
   "display_name": "Python 3",
   "language": "python",
   "name": "python3"
  },
  "language_info": {
   "codemirror_mode": {
    "name": "ipython",
    "version": 3
   },
   "file_extension": ".py",
   "mimetype": "text/x-python",
   "name": "python",
   "nbconvert_exporter": "python",
   "pygments_lexer": "ipython3",
   "version": "3.6.3"
  }
 },
 "nbformat": 4,
 "nbformat_minor": 2
}
